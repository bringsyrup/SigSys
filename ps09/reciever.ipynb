{
 "metadata": {
  "name": "",
  "signature": "sha256:84454d3ec137f24aa926ac1ab6cbafdcd66ac98d1d44475fe5de19d44b00b6e8"
 },
 "nbformat": 3,
 "nbformat_minor": 0,
 "worksheets": [
  {
   "cells": [
    {
     "cell_type": "code",
     "collapsed": false,
     "input": [
      "#! /bin/env python\n",
      "\n",
      "import numpy as np\n",
      "import BPSK\n",
      "import pyaudio as pido\n",
      "import matplotlib.pyplot as plt\n",
      "from array import array\n",
      "\n",
      "def b2a(bits):\n",
      "    string = ''\n",
      "    for byte in np.arange(0, int(np.ceil(len(bits)/7))):\n",
      "        tmp = 0\n",
      "        for bit in np.arange(0, 7):\n",
      "            b = bits[byte*7+bit]\n",
      "            tmp += (2**(6-bit))*b\n",
      "        string += chr(int(tmp))\n",
      "    return string\n",
      "\n",
      "def recieve(sampleRate=8000, threshold=1000, chunkSize=1000):\n",
      "    stream = pido.PyAudio().open(\n",
      "            format=pido.paInt16,\n",
      "            channels=1,\n",
      "            rate=sampleRate,\n",
      "            input=True,\n",
      "            output=False\n",
      "            )\n",
      "\n",
      "    chunks = array('h')\n",
      "\n",
      "    while True:\n",
      "        firstChunk = array('h', stream.read(chunkSize))\n",
      "        if max(firstChunk) > threshold:\n",
      "            break\n",
      "    chunks.extend(firstChunk)\n",
      "\n",
      "    while True:\n",
      "        chunk = array('h', stream.read(chunkSize))\n",
      "        chunks.extend(chunk)\n",
      "        if max(chunk) < threshold:\n",
      "            break\n",
      "\n",
      "    sig = np.frombuffer(chunks, dtype=np.dtype('int16'))\n",
      "    stream.stop_stream()\n",
      "    stream.close()\n",
      "    pido.PyAudio().terminate()\n",
      "    return sig\n",
      "\n",
      "if __name__==\"__main__\":\n",
      "    sampleRate = 10000\n",
      "    signal = recieve(sampleRate=sampleRate, threshold=16000, chunkSize=1000)\n",
      "    bits = BPSK.decode(signal)\n",
      "    print b2a(bits)"
     ],
     "language": "python",
     "metadata": {},
     "outputs": [
      {
       "output_type": "stream",
       "stream": "stdout",
       "text": [
        "I'm a sentence...\n"
       ]
      }
     ],
     "prompt_number": 4
    }
   ],
   "metadata": {}
  }
 ]
}